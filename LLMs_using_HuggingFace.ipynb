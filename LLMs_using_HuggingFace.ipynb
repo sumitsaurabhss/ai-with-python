{
  "nbformat": 4,
  "nbformat_minor": 0,
  "metadata": {
    "colab": {
      "provenance": [],
      "authorship_tag": "ABX9TyM8XR293XqXhWmAECOiqo7q",
      "include_colab_link": true
    },
    "kernelspec": {
      "name": "python3",
      "display_name": "Python 3"
    },
    "language_info": {
      "name": "python"
    }
  },
  "cells": [
    {
      "cell_type": "markdown",
      "metadata": {
        "id": "view-in-github",
        "colab_type": "text"
      },
      "source": [
        "<a href=\"https://colab.research.google.com/github/sumitsaurabhss/ai-with-python/blob/main/LLMs_using_HuggingFace.ipynb\" target=\"_parent\"><img src=\"https://colab.research.google.com/assets/colab-badge.svg\" alt=\"Open In Colab\"/></a>"
      ]
    },
    {
      "cell_type": "code",
      "source": [
        "#!pip install huggingface_hub"
      ],
      "metadata": {
        "id": "Ioy8_tvE8jh8"
      },
      "execution_count": 1,
      "outputs": []
    },
    {
      "cell_type": "code",
      "execution_count": 2,
      "metadata": {
        "id": "A5cG7CTI8JjU"
      },
      "outputs": [],
      "source": [
        "from huggingface_hub import HfApi"
      ]
    },
    {
      "cell_type": "code",
      "source": [
        "api = HfApi()\n",
        "\n",
        "#list(api.list_models())"
      ],
      "metadata": {
        "id": "2zfZNR2h_HGi"
      },
      "execution_count": 3,
      "outputs": []
    },
    {
      "cell_type": "code",
      "source": [
        "models = api.list_models(\n",
        "    task=\"text-classification\",\n",
        "    sort=\"downloads\",\n",
        "    direction=-1,\n",
        "    limit=3\n",
        ")\n",
        "\n",
        "model_list = list(models)\n",
        "print(model_list)"
      ],
      "metadata": {
        "colab": {
          "base_uri": "https://localhost:8080/"
        },
        "id": "2mj5_jC-8bfO",
        "outputId": "26d5497c-c66c-4de6-85f7-f6b3ccba14c2"
      },
      "execution_count": 4,
      "outputs": [
        {
          "output_type": "stream",
          "name": "stderr",
          "text": [
            "/usr/local/lib/python3.10/dist-packages/huggingface_hub/utils/_token.py:89: UserWarning: \n",
            "The secret `HF_TOKEN` does not exist in your Colab secrets.\n",
            "To authenticate with the Hugging Face Hub, create a token in your settings tab (https://huggingface.co/settings/tokens), set it as secret in your Google Colab and restart your session.\n",
            "You will be able to reuse this secret in all of your notebooks.\n",
            "Please note that authentication is recommended but still optional to access public models or datasets.\n",
            "  warnings.warn(\n"
          ]
        },
        {
          "output_type": "stream",
          "name": "stdout",
          "text": [
            "[ModelInfo(id='facebook/fasttext-language-identification', author=None, sha=None, created_at=datetime.datetime(2023, 3, 6, 12, 52, 50, tzinfo=datetime.timezone.utc), last_modified=None, private=False, gated=None, disabled=None, downloads=52727411, likes=162, library_name='fasttext', tags=['fasttext', 'text-classification', 'language-identification', 'arxiv:1607.04606', 'arxiv:1802.06893', 'arxiv:1607.01759', 'arxiv:1612.03651', 'license:cc-by-nc-4.0', 'region:us'], pipeline_tag='text-classification', mask_token=None, card_data=None, widget_data=None, model_index=None, config=None, transformers_info=None, siblings=None, spaces=None, safetensors=None), ModelInfo(id='tasksource/deberta-small-long-nli', author=None, sha=None, created_at=datetime.datetime(2024, 1, 31, 12, 2, 12, tzinfo=datetime.timezone.utc), last_modified=None, private=False, gated=None, disabled=None, downloads=8697272, likes=21, library_name='transformers', tags=['transformers', 'pytorch', 'safetensors', 'deberta-v2', 'text-classification', 'deberta-v3-small', 'deberta-v3', 'deberta', 'nli', 'natural-language-inference', 'multitask', 'multi-task', 'pipeline', 'extreme-multi-task', 'extreme-mtl', 'tasksource', 'zero-shot', 'rlhf', 'zero-shot-classification', 'en', 'dataset:nyu-mll/glue', 'dataset:aps/super_glue', 'dataset:facebook/anli', 'dataset:tasksource/babi_nli', 'dataset:sick', 'dataset:snli', 'dataset:scitail', 'dataset:hans', 'dataset:alisawuffles/WANLI', 'dataset:tasksource/recast', 'dataset:sileod/probability_words_nli', 'dataset:joey234/nan-nli', 'dataset:pietrolesci/nli_fever', 'dataset:pietrolesci/breaking_nli', 'dataset:pietrolesci/conj_nli', 'dataset:pietrolesci/fracas', 'dataset:pietrolesci/dialogue_nli', 'dataset:pietrolesci/mpe', 'dataset:pietrolesci/dnc', 'dataset:pietrolesci/recast_white', 'dataset:pietrolesci/joci', 'dataset:pietrolesci/robust_nli', 'dataset:pietrolesci/robust_nli_is_sd', 'dataset:pietrolesci/robust_nli_li_ts', 'dataset:pietrolesci/gen_debiased_nli', 'dataset:pietrolesci/add_one_rte', 'dataset:tasksource/imppres', 'dataset:hlgd', 'dataset:paws', 'dataset:medical_questions_pairs', 'dataset:Anthropic/model-written-evals', 'dataset:truthful_qa', 'dataset:nightingal3/fig-qa', 'dataset:tasksource/bigbench', 'dataset:blimp', 'dataset:cos_e', 'dataset:cosmos_qa', 'dataset:dream', 'dataset:openbookqa', 'dataset:qasc', 'dataset:quartz', 'dataset:quail', 'dataset:head_qa', 'dataset:sciq', 'dataset:social_i_qa', 'dataset:wiki_hop', 'dataset:wiqa', 'dataset:piqa', 'dataset:hellaswag', 'dataset:pkavumba/balanced-copa', 'dataset:12ml/e-CARE', 'dataset:art', 'dataset:winogrande', 'dataset:codah', 'dataset:ai2_arc', 'dataset:definite_pronoun_resolution', 'dataset:swag', 'dataset:math_qa', 'dataset:metaeval/utilitarianism', 'dataset:mteb/amazon_counterfactual', 'dataset:SetFit/insincere-questions', 'dataset:SetFit/toxic_conversations', 'dataset:turingbench/TuringBench', 'dataset:trec', 'dataset:tals/vitaminc', 'dataset:hope_edi', 'dataset:strombergnlp/rumoureval_2019', 'dataset:ethos', 'dataset:tweet_eval', 'dataset:discovery', 'dataset:pragmeval', 'dataset:silicone', 'dataset:lex_glue', 'dataset:papluca/language-identification', 'dataset:imdb', 'dataset:rotten_tomatoes', 'dataset:ag_news', 'dataset:yelp_review_full', 'dataset:financial_phrasebank', 'dataset:poem_sentiment', 'dataset:dbpedia_14', 'dataset:amazon_polarity', 'dataset:app_reviews', 'dataset:hate_speech18', 'dataset:sms_spam', 'dataset:humicroedit', 'dataset:snips_built_in_intents', 'dataset:hate_speech_offensive', 'dataset:yahoo_answers_topics', 'dataset:pacovaldez/stackoverflow-questions', 'dataset:zapsdcn/hyperpartisan_news', 'dataset:zapsdcn/sciie', 'dataset:zapsdcn/citation_intent', 'dataset:go_emotions', 'dataset:allenai/scicite', 'dataset:liar', 'dataset:relbert/lexical_relation_classification', 'dataset:tasksource/linguisticprobing', 'dataset:tasksource/crowdflower', 'dataset:metaeval/ethics', 'dataset:emo', 'dataset:google_wellformed_query', 'dataset:tweets_hate_speech_detection', 'dataset:has_part', 'dataset:blog_authorship_corpus', 'dataset:launch/open_question_type', 'dataset:health_fact', 'dataset:commonsense_qa', 'dataset:mc_taco', 'dataset:ade_corpus_v2', 'dataset:prajjwal1/discosense', 'dataset:circa', 'dataset:PiC/phrase_similarity', 'dataset:copenlu/scientific-exaggeration-detection', 'dataset:quarel', 'dataset:mwong/fever-evidence-related', 'dataset:numer_sense', 'dataset:dynabench/dynasent', 'dataset:raquiba/Sarcasm_News_Headline', 'dataset:sem_eval_2010_task_8', 'dataset:demo-org/auditor_review', 'dataset:medmcqa', 'dataset:RuyuanWan/Dynasent_Disagreement', 'dataset:RuyuanWan/Politeness_Disagreement', 'dataset:RuyuanWan/SBIC_Disagreement', 'dataset:RuyuanWan/SChem_Disagreement', 'dataset:RuyuanWan/Dilemmas_Disagreement', 'dataset:lucasmccabe/logiqa', 'dataset:wiki_qa', 'dataset:tasksource/cycic_classification', 'dataset:tasksource/cycic_multiplechoice', 'dataset:tasksource/sts-companion', 'dataset:tasksource/commonsense_qa_2.0', 'dataset:tasksource/lingnli', 'dataset:tasksource/monotonicity-entailment', 'dataset:tasksource/arct', 'dataset:tasksource/scinli', 'dataset:tasksource/naturallogic', 'dataset:onestop_qa', 'dataset:demelin/moral_stories', 'dataset:corypaik/prost', 'dataset:aps/dynahate', 'dataset:metaeval/syntactic-augmentation-nli', 'dataset:tasksource/autotnli', 'dataset:lasha-nlp/CONDAQA', 'dataset:openai/webgpt_comparisons', 'dataset:Dahoas/synthetic-instruct-gptj-pairwise', 'dataset:metaeval/scruples', 'dataset:metaeval/wouldyourather', 'dataset:metaeval/defeasible-nli', 'dataset:tasksource/help-nli', 'dataset:metaeval/nli-veridicality-transitivity', 'dataset:tasksource/lonli', 'dataset:tasksource/dadc-limit-nli', 'dataset:ColumbiaNLP/FLUTE', 'dataset:tasksource/strategy-qa', 'dataset:openai/summarize_from_feedback', 'dataset:tasksource/folio', 'dataset:yale-nlp/FOLIO', 'dataset:tasksource/tomi-nli', 'dataset:tasksource/avicenna', 'dataset:stanfordnlp/SHP', 'dataset:GBaker/MedQA-USMLE-4-options-hf', 'dataset:sileod/wikimedqa', 'dataset:declare-lab/cicero', 'dataset:amydeng2000/CREAK', 'dataset:tasksource/mutual', 'dataset:inverse-scaling/NeQA', 'dataset:inverse-scaling/quote-repetition', 'dataset:inverse-scaling/redefine-math', 'dataset:tasksource/puzzte', 'dataset:tasksource/implicatures', 'dataset:race', 'dataset:tasksource/race-c', 'dataset:tasksource/spartqa-yn', 'dataset:tasksource/spartqa-mchoice', 'dataset:tasksource/temporal-nli', 'dataset:riddle_sense', 'dataset:tasksource/clcd-english', 'dataset:maximedb/twentyquestions', 'dataset:metaeval/reclor', 'dataset:tasksource/counterfactually-augmented-imdb', 'dataset:tasksource/counterfactually-augmented-snli', 'dataset:metaeval/cnli', 'dataset:tasksource/boolq-natural-perturbations', 'dataset:metaeval/acceptability-prediction', 'dataset:metaeval/equate', 'dataset:tasksource/ScienceQA_text_only', 'dataset:Jiangjie/ekar_english', 'dataset:tasksource/implicit-hate-stg1', 'dataset:metaeval/chaos-mnli-ambiguity', 'dataset:IlyaGusev/headline_cause', 'dataset:tasksource/logiqa-2.0-nli', 'dataset:tasksource/oasst2_dense_flat', 'dataset:sileod/mindgames', 'dataset:metaeval/ambient', 'dataset:metaeval/path-naturalness-prediction', 'dataset:civil_comments', 'dataset:AndyChiang/cloth', 'dataset:AndyChiang/dgen', 'dataset:tasksource/I2D2', 'dataset:webis/args_me', 'dataset:webis/Touche23-ValueEval', 'dataset:tasksource/starcon', 'dataset:PolyAI/banking77', 'dataset:tasksource/ConTRoL-nli', 'dataset:tasksource/tracie', 'dataset:tasksource/sherliic', 'dataset:tasksource/sen-making', 'dataset:tasksource/winowhy', 'dataset:tasksource/robustLR', 'dataset:CLUTRR/v1', 'dataset:tasksource/logical-fallacy', 'dataset:tasksource/parade', 'dataset:tasksource/cladder', 'dataset:tasksource/subjectivity', 'dataset:tasksource/MOH', 'dataset:tasksource/VUAC', 'dataset:tasksource/TroFi', 'dataset:sharc_modified', 'dataset:tasksource/conceptrules_v2', 'dataset:metaeval/disrpt', 'dataset:tasksource/zero-shot-label-nli', 'dataset:tasksource/com2sense', 'dataset:tasksource/scone', 'dataset:tasksource/winodict', 'dataset:tasksource/fool-me-twice', 'dataset:tasksource/monli', 'dataset:tasksource/corr2cause', 'dataset:lighteval/lsat_qa', 'dataset:tasksource/apt', 'dataset:zeroshot/twitter-financial-news-sentiment', 'dataset:tasksource/icl-symbol-tuning-instruct', 'dataset:tasksource/SpaceNLI', 'dataset:sihaochen/propsegment', 'dataset:HannahRoseKirk/HatemojiBuild', 'dataset:tasksource/regset', 'dataset:tasksource/esci', 'dataset:lmsys/chatbot_arena_conversations', 'dataset:neurae/dnd_style_intents', 'dataset:hitachi-nlp/FLD.v2', 'dataset:tasksource/SDOH-NLI', 'dataset:allenai/scifact_entailment', 'dataset:tasksource/feasibilityQA', 'dataset:tasksource/simple_pair', 'dataset:tasksource/AdjectiveScaleProbe-nli', 'dataset:tasksource/resnli', 'dataset:tasksource/SpaRTUN', 'dataset:tasksource/ReSQ', 'dataset:tasksource/semantic_fragments_nli', 'dataset:MoritzLaurer/dataset_train_nli', 'dataset:tasksource/stepgame', 'dataset:tasksource/nlgraph', 'dataset:tasksource/oasst2_pairwise_rlhf_reward', 'dataset:tasksource/hh-rlhf', 'dataset:tasksource/ruletaker', 'dataset:qbao775/PARARULE-Plus', 'dataset:tasksource/proofwriter', 'dataset:tasksource/logical-entailment', 'dataset:tasksource/nope', 'dataset:tasksource/LogicNLI', 'dataset:kiddothe2b/contract-nli', 'dataset:AshtonIsNotHere/nli4ct_semeval2024', 'dataset:tasksource/lsat-ar', 'dataset:tasksource/lsat-rc', 'dataset:AshtonIsNotHere/biosift-nli', 'dataset:tasksource/brainteasers', 'dataset:Anthropic/persuasion', 'dataset:erbacher/AmbigNQ-clarifying-question', 'dataset:tasksource/SIGA-nli', 'dataset:unigram/FOL-nli', 'dataset:tasksource/goal-step-wikihow', 'dataset:GGLab/PARADISE', 'dataset:tasksource/doc-nli', 'dataset:tasksource/mctest-nli', 'dataset:tasksource/patent-phrase-similarity', 'dataset:tasksource/natural-language-satisfiability', 'dataset:tasksource/idioms-nli', 'dataset:tasksource/lifecycle-entailment', 'dataset:nvidia/HelpSteer', 'dataset:nvidia/HelpSteer2', 'dataset:sadat2307/MSciNLI', 'dataset:pushpdeep/UltraFeedback-paired', 'dataset:tasksource/AES2-essay-scoring', 'dataset:tasksource/english-grading', 'dataset:tasksource/wice', 'dataset:Dzeniks/hover', 'dataset:sileod/missing-item-prediction', 'dataset:tasksource/tasksource_dpo_pairs', 'arxiv:2301.05948', 'license:apache-2.0', 'autotrain_compatible', 'endpoints_compatible', 'region:us'], pipeline_tag='zero-shot-classification', mask_token=None, card_data=None, widget_data=None, model_index=None, config=None, transformers_info=None, siblings=None, spaces=None, safetensors=None), ModelInfo(id='distilbert/distilbert-base-uncased-finetuned-sst-2-english', author=None, sha=None, created_at=datetime.datetime(2022, 3, 2, 23, 29, 4, tzinfo=datetime.timezone.utc), last_modified=None, private=False, gated=None, disabled=None, downloads=8071673, likes=545, library_name='transformers', tags=['transformers', 'pytorch', 'tf', 'rust', 'onnx', 'safetensors', 'distilbert', 'text-classification', 'en', 'dataset:sst2', 'dataset:glue', 'arxiv:1910.01108', 'doi:10.57967/hf/0181', 'license:apache-2.0', 'model-index', 'autotrain_compatible', 'endpoints_compatible', 'region:us'], pipeline_tag='text-classification', mask_token=None, card_data=None, widget_data=None, model_index=None, config=None, transformers_info=None, siblings=None, spaces=None, safetensors=None)]\n"
          ]
        }
      ]
    },
    {
      "cell_type": "code",
      "source": [
        "from transformers import AutoModel"
      ],
      "metadata": {
        "id": "oMv34H-u-omi"
      },
      "execution_count": 5,
      "outputs": []
    },
    {
      "cell_type": "code",
      "source": [
        "modelId = \"distilbert-base-uncased-finetuned-sst-2-english\"\n",
        "\n",
        "model = AutoModel.from_pretrained(modelId)\n",
        "\n",
        "model.save_pretrained(save_directory=f'models/{modelId}')"
      ],
      "metadata": {
        "id": "wd7IDhLCC7fs"
      },
      "execution_count": 6,
      "outputs": []
    },
    {
      "cell_type": "code",
      "source": [
        "#!pip install datasets"
      ],
      "metadata": {
        "id": "Pb7a_5ALF7RY"
      },
      "execution_count": 7,
      "outputs": []
    },
    {
      "cell_type": "code",
      "source": [
        "from datasets import load_dataset_builder"
      ],
      "metadata": {
        "id": "WKycmj2LG8KK"
      },
      "execution_count": 8,
      "outputs": []
    },
    {
      "cell_type": "code",
      "source": [
        "data_builder = load_dataset_builder('imdb')"
      ],
      "metadata": {
        "id": "QuxoyaygHGGI"
      },
      "execution_count": 9,
      "outputs": []
    },
    {
      "cell_type": "code",
      "source": [
        "print(data_builder.info.description)"
      ],
      "metadata": {
        "colab": {
          "base_uri": "https://localhost:8080/"
        },
        "id": "fcfYcrhFSzqi",
        "outputId": "970c4ab9-7d4b-4148-9279-2042e439b934"
      },
      "execution_count": 10,
      "outputs": [
        {
          "output_type": "stream",
          "name": "stdout",
          "text": [
            "\n"
          ]
        }
      ]
    },
    {
      "cell_type": "code",
      "source": [
        "print(data_builder.info.features)"
      ],
      "metadata": {
        "colab": {
          "base_uri": "https://localhost:8080/"
        },
        "id": "Lw1ooYzlS5jn",
        "outputId": "d07ee752-0074-4252-e14e-8f3079ddd603"
      },
      "execution_count": 11,
      "outputs": [
        {
          "output_type": "stream",
          "name": "stdout",
          "text": [
            "{'text': Value(dtype='string', id=None), 'label': ClassLabel(names=['neg', 'pos'], id=None)}\n"
          ]
        }
      ]
    },
    {
      "cell_type": "code",
      "source": [
        "from datasets import load_dataset\n",
        "\n",
        "data = load_dataset('imdb')"
      ],
      "metadata": {
        "id": "8FibwmS8TCVn"
      },
      "execution_count": 12,
      "outputs": []
    },
    {
      "cell_type": "code",
      "source": [
        "data = load_dataset('imdb', split='train')"
      ],
      "metadata": {
        "id": "mLOZV6xWTvHS"
      },
      "execution_count": 13,
      "outputs": []
    },
    {
      "cell_type": "code",
      "source": [
        "#data_wiki = load_dataset('wikipedia', '20220301.en')"
      ],
      "metadata": {
        "id": "61XOEUKfT8zQ"
      },
      "execution_count": 14,
      "outputs": []
    },
    {
      "cell_type": "code",
      "source": [
        "filtered = data.filter(lambda row: row['label']==0)\n",
        "print(filtered)"
      ],
      "metadata": {
        "colab": {
          "base_uri": "https://localhost:8080/"
        },
        "id": "PWxSgI41VAZu",
        "outputId": "5f136047-254e-4554-c5ce-75954e64e58a"
      },
      "execution_count": 15,
      "outputs": [
        {
          "output_type": "stream",
          "name": "stdout",
          "text": [
            "Dataset({\n",
            "    features: ['text', 'label'],\n",
            "    num_rows: 12500\n",
            "})\n"
          ]
        }
      ]
    },
    {
      "cell_type": "code",
      "source": [
        "print(filtered[0])"
      ],
      "metadata": {
        "colab": {
          "base_uri": "https://localhost:8080/"
        },
        "id": "uJAdmDZDUFe-",
        "outputId": "7f17effc-0a0d-40cc-8f1c-0d67c790096c"
      },
      "execution_count": 16,
      "outputs": [
        {
          "output_type": "stream",
          "name": "stdout",
          "text": [
            "{'text': 'I rented I AM CURIOUS-YELLOW from my video store because of all the controversy that surrounded it when it was first released in 1967. I also heard that at first it was seized by U.S. customs if it ever tried to enter this country, therefore being a fan of films considered \"controversial\" I really had to see this for myself.<br /><br />The plot is centered around a young Swedish drama student named Lena who wants to learn everything she can about life. In particular she wants to focus her attentions to making some sort of documentary on what the average Swede thought about certain political issues such as the Vietnam War and race issues in the United States. In between asking politicians and ordinary denizens of Stockholm about their opinions on politics, she has sex with her drama teacher, classmates, and married men.<br /><br />What kills me about I AM CURIOUS-YELLOW is that 40 years ago, this was considered pornographic. Really, the sex and nudity scenes are few and far between, even then it\\'s not shot like some cheaply made porno. While my countrymen mind find it shocking, in reality sex and nudity are a major staple in Swedish cinema. Even Ingmar Bergman, arguably their answer to good old boy John Ford, had sex scenes in his films.<br /><br />I do commend the filmmakers for the fact that any sex shown in the film is shown for artistic purposes rather than just to shock people and make money to be shown in pornographic theaters in America. I AM CURIOUS-YELLOW is a good film for anyone wanting to study the meat and potatoes (no pun intended) of Swedish cinema. But really, this film doesn\\'t have much of a plot.', 'label': 0}\n"
          ]
        }
      ]
    },
    {
      "cell_type": "code",
      "source": [
        "print(filtered[0]['text'])"
      ],
      "metadata": {
        "colab": {
          "base_uri": "https://localhost:8080/"
        },
        "id": "JHfYwpTAWFs0",
        "outputId": "3bc7182b-36ee-4745-a215-8f314b281380"
      },
      "execution_count": 17,
      "outputs": [
        {
          "output_type": "stream",
          "name": "stdout",
          "text": [
            "I rented I AM CURIOUS-YELLOW from my video store because of all the controversy that surrounded it when it was first released in 1967. I also heard that at first it was seized by U.S. customs if it ever tried to enter this country, therefore being a fan of films considered \"controversial\" I really had to see this for myself.<br /><br />The plot is centered around a young Swedish drama student named Lena who wants to learn everything she can about life. In particular she wants to focus her attentions to making some sort of documentary on what the average Swede thought about certain political issues such as the Vietnam War and race issues in the United States. In between asking politicians and ordinary denizens of Stockholm about their opinions on politics, she has sex with her drama teacher, classmates, and married men.<br /><br />What kills me about I AM CURIOUS-YELLOW is that 40 years ago, this was considered pornographic. Really, the sex and nudity scenes are few and far between, even then it's not shot like some cheaply made porno. While my countrymen mind find it shocking, in reality sex and nudity are a major staple in Swedish cinema. Even Ingmar Bergman, arguably their answer to good old boy John Ford, had sex scenes in his films.<br /><br />I do commend the filmmakers for the fact that any sex shown in the film is shown for artistic purposes rather than just to shock people and make money to be shown in pornographic theaters in America. I AM CURIOUS-YELLOW is a good film for anyone wanting to study the meat and potatoes (no pun intended) of Swedish cinema. But really, this film doesn't have much of a plot.\n"
          ]
        }
      ]
    },
    {
      "cell_type": "code",
      "source": [
        "filtered = data.filter(lambda row: 'politic' in row['text'])\n",
        "print(filtered)"
      ],
      "metadata": {
        "colab": {
          "base_uri": "https://localhost:8080/"
        },
        "id": "Gv-AXjk4dNQ9",
        "outputId": "2179bf0b-932c-4982-baf1-5ba0655ed878"
      },
      "execution_count": 18,
      "outputs": [
        {
          "output_type": "stream",
          "name": "stdout",
          "text": [
            "Dataset({\n",
            "    features: ['text', 'label'],\n",
            "    num_rows: 746\n",
            "})\n"
          ]
        }
      ]
    },
    {
      "cell_type": "code",
      "source": [
        "sliced = data.select(range(2))\n",
        "print(sliced)"
      ],
      "metadata": {
        "colab": {
          "base_uri": "https://localhost:8080/"
        },
        "id": "b_ITx3CoWIti",
        "outputId": "af0e8f92-da2e-4488-d0df-eb34bc8d113b"
      },
      "execution_count": 19,
      "outputs": [
        {
          "output_type": "stream",
          "name": "stdout",
          "text": [
            "Dataset({\n",
            "    features: ['text', 'label'],\n",
            "    num_rows: 2\n",
            "})\n"
          ]
        }
      ]
    },
    {
      "cell_type": "code",
      "source": [
        "print(sliced[0])\n",
        "print(sliced[1])"
      ],
      "metadata": {
        "colab": {
          "base_uri": "https://localhost:8080/"
        },
        "id": "giSDmlIYW-HQ",
        "outputId": "38af8995-9e12-4fea-89eb-85d9b9e7b2e1"
      },
      "execution_count": 20,
      "outputs": [
        {
          "output_type": "stream",
          "name": "stdout",
          "text": [
            "{'text': 'I rented I AM CURIOUS-YELLOW from my video store because of all the controversy that surrounded it when it was first released in 1967. I also heard that at first it was seized by U.S. customs if it ever tried to enter this country, therefore being a fan of films considered \"controversial\" I really had to see this for myself.<br /><br />The plot is centered around a young Swedish drama student named Lena who wants to learn everything she can about life. In particular she wants to focus her attentions to making some sort of documentary on what the average Swede thought about certain political issues such as the Vietnam War and race issues in the United States. In between asking politicians and ordinary denizens of Stockholm about their opinions on politics, she has sex with her drama teacher, classmates, and married men.<br /><br />What kills me about I AM CURIOUS-YELLOW is that 40 years ago, this was considered pornographic. Really, the sex and nudity scenes are few and far between, even then it\\'s not shot like some cheaply made porno. While my countrymen mind find it shocking, in reality sex and nudity are a major staple in Swedish cinema. Even Ingmar Bergman, arguably their answer to good old boy John Ford, had sex scenes in his films.<br /><br />I do commend the filmmakers for the fact that any sex shown in the film is shown for artistic purposes rather than just to shock people and make money to be shown in pornographic theaters in America. I AM CURIOUS-YELLOW is a good film for anyone wanting to study the meat and potatoes (no pun intended) of Swedish cinema. But really, this film doesn\\'t have much of a plot.', 'label': 0}\n",
            "{'text': '\"I Am Curious: Yellow\" is a risible and pretentious steaming pile. It doesn\\'t matter what one\\'s political views are because this film can hardly be taken seriously on any level. As for the claim that frontal male nudity is an automatic NC-17, that isn\\'t true. I\\'ve seen R-rated films with male nudity. Granted, they only offer some fleeting views, but where are the R-rated films with gaping vulvas and flapping labia? Nowhere, because they don\\'t exist. The same goes for those crappy cable shows: schlongs swinging in the breeze but not a clitoris in sight. And those pretentious indie movies like The Brown Bunny, in which we\\'re treated to the site of Vincent Gallo\\'s throbbing johnson, but not a trace of pink visible on Chloe Sevigny. Before crying (or implying) \"double-standard\" in matters of nudity, the mentally obtuse should take into account one unavoidably obvious anatomical difference between men and women: there are no genitals on display when actresses appears nude, and the same cannot be said for a man. In fact, you generally won\\'t see female genitals in an American film in anything short of porn or explicit erotica. This alleged double-standard is less a double standard than an admittedly depressing ability to come to terms culturally with the insides of women\\'s bodies.', 'label': 0}\n"
          ]
        }
      ]
    },
    {
      "cell_type": "code",
      "source": [
        "print(sliced[0]['text'])\n",
        "print(sliced[1]['text'])"
      ],
      "metadata": {
        "colab": {
          "base_uri": "https://localhost:8080/"
        },
        "id": "pl3S69ADXKYj",
        "outputId": "dba2d22f-1a12-4b28-a925-07c0de36037c"
      },
      "execution_count": 21,
      "outputs": [
        {
          "output_type": "stream",
          "name": "stdout",
          "text": [
            "I rented I AM CURIOUS-YELLOW from my video store because of all the controversy that surrounded it when it was first released in 1967. I also heard that at first it was seized by U.S. customs if it ever tried to enter this country, therefore being a fan of films considered \"controversial\" I really had to see this for myself.<br /><br />The plot is centered around a young Swedish drama student named Lena who wants to learn everything she can about life. In particular she wants to focus her attentions to making some sort of documentary on what the average Swede thought about certain political issues such as the Vietnam War and race issues in the United States. In between asking politicians and ordinary denizens of Stockholm about their opinions on politics, she has sex with her drama teacher, classmates, and married men.<br /><br />What kills me about I AM CURIOUS-YELLOW is that 40 years ago, this was considered pornographic. Really, the sex and nudity scenes are few and far between, even then it's not shot like some cheaply made porno. While my countrymen mind find it shocking, in reality sex and nudity are a major staple in Swedish cinema. Even Ingmar Bergman, arguably their answer to good old boy John Ford, had sex scenes in his films.<br /><br />I do commend the filmmakers for the fact that any sex shown in the film is shown for artistic purposes rather than just to shock people and make money to be shown in pornographic theaters in America. I AM CURIOUS-YELLOW is a good film for anyone wanting to study the meat and potatoes (no pun intended) of Swedish cinema. But really, this film doesn't have much of a plot.\n",
            "\"I Am Curious: Yellow\" is a risible and pretentious steaming pile. It doesn't matter what one's political views are because this film can hardly be taken seriously on any level. As for the claim that frontal male nudity is an automatic NC-17, that isn't true. I've seen R-rated films with male nudity. Granted, they only offer some fleeting views, but where are the R-rated films with gaping vulvas and flapping labia? Nowhere, because they don't exist. The same goes for those crappy cable shows: schlongs swinging in the breeze but not a clitoris in sight. And those pretentious indie movies like The Brown Bunny, in which we're treated to the site of Vincent Gallo's throbbing johnson, but not a trace of pink visible on Chloe Sevigny. Before crying (or implying) \"double-standard\" in matters of nudity, the mentally obtuse should take into account one unavoidably obvious anatomical difference between men and women: there are no genitals on display when actresses appears nude, and the same cannot be said for a man. In fact, you generally won't see female genitals in an American film in anything short of porn or explicit erotica. This alleged double-standard is less a double standard than an admittedly depressing ability to come to terms culturally with the insides of women's bodies.\n"
          ]
        }
      ]
    },
    {
      "cell_type": "code",
      "source": [],
      "metadata": {
        "id": "yBizUxJ2XXJv"
      },
      "execution_count": 21,
      "outputs": []
    },
    {
      "cell_type": "markdown",
      "source": [
        "**From deeplearning.ai**"
      ],
      "metadata": {
        "id": "L6MQsHuf9Mh2"
      }
    },
    {
      "cell_type": "code",
      "source": [
        "from transformers.utils import logging\n",
        "logging.set_verbosity_error()"
      ],
      "metadata": {
        "id": "GwTjbaXU9zH4"
      },
      "execution_count": 22,
      "outputs": []
    },
    {
      "cell_type": "code",
      "source": [
        "from transformers import pipeline"
      ],
      "metadata": {
        "id": "OU6sYb2J9Uxg"
      },
      "execution_count": 23,
      "outputs": []
    },
    {
      "cell_type": "code",
      "source": [
        "chatbot = pipeline(\"text2text-generation\", model=\"facebook/blenderbot-400M-distill\")"
      ],
      "metadata": {
        "id": "WU5bhHju9ddn"
      },
      "execution_count": 24,
      "outputs": []
    },
    {
      "cell_type": "code",
      "source": [
        "user_message = \"\"\"\n",
        "What are some fun activities to do in the winter?\n",
        "\n",
        "\"\"\""
      ],
      "metadata": {
        "id": "daWG97Uy-q6N"
      },
      "execution_count": 25,
      "outputs": []
    },
    {
      "cell_type": "code",
      "source": [
        "from transformers import Text2TextGenerationPipeline"
      ],
      "metadata": {
        "id": "pAjh6-FC_rpq"
      },
      "execution_count": 26,
      "outputs": []
    },
    {
      "cell_type": "code",
      "source": [
        "#text2text = Text2TextGenerationPipeline(model='chatbot', task=user_message)\n",
        "#print(text2text)"
      ],
      "metadata": {
        "collapsed": true,
        "id": "11XBvZntAShL"
      },
      "execution_count": 27,
      "outputs": []
    },
    {
      "cell_type": "code",
      "source": [
        "chatbot(user_message)"
      ],
      "metadata": {
        "colab": {
          "base_uri": "https://localhost:8080/"
        },
        "id": "iCdVJ8XACAOX",
        "outputId": "93905ed9-56dc-4451-c13b-8577502ce878"
      },
      "execution_count": 28,
      "outputs": [
        {
          "output_type": "execute_result",
          "data": {
            "text/plain": [
              "[{'generated_text': ' I love snowboarding and skiing.  Do you have any winter activities you like to do?'}]"
            ]
          },
          "metadata": {},
          "execution_count": 28
        }
      ]
    },
    {
      "cell_type": "code",
      "source": [
        "import gc"
      ],
      "metadata": {
        "id": "5v-3GvH1E7ix"
      },
      "execution_count": 29,
      "outputs": []
    },
    {
      "cell_type": "code",
      "source": [
        "del chatbot"
      ],
      "metadata": {
        "id": "Gw6hn233FYjU"
      },
      "execution_count": 30,
      "outputs": []
    },
    {
      "cell_type": "code",
      "source": [
        "gc.collect()"
      ],
      "metadata": {
        "colab": {
          "base_uri": "https://localhost:8080/"
        },
        "id": "ryTs7AD7FcOq",
        "outputId": "a50544be-d7aa-4257-a0a7-3dca1727c4e4"
      },
      "execution_count": 31,
      "outputs": [
        {
          "output_type": "execute_result",
          "data": {
            "text/plain": [
              "8"
            ]
          },
          "metadata": {},
          "execution_count": 31
        }
      ]
    },
    {
      "cell_type": "code",
      "source": [
        "import torch"
      ],
      "metadata": {
        "id": "cXuddjh2FeT5"
      },
      "execution_count": 32,
      "outputs": []
    },
    {
      "cell_type": "code",
      "source": [
        "translator = pipeline(task=\"translation\",\n",
        "                      model=\"facebook/nllb-200-distilled-600M\",\n",
        "                      torch_dtype=torch.bfloat16)"
      ],
      "metadata": {
        "id": "2NxPnKN_J5ok"
      },
      "execution_count": 33,
      "outputs": []
    },
    {
      "cell_type": "code",
      "source": [
        "text = \"\"\"\\\n",
        "My puppy is adorable, \\\n",
        "Your kitten is cute.\n",
        "Her panda is friendly.\n",
        "His llama is thoughtful. \\\n",
        "We all have nice pets!\"\"\""
      ],
      "metadata": {
        "id": "jvoNIvQwJ_Gy"
      },
      "execution_count": 34,
      "outputs": []
    },
    {
      "cell_type": "code",
      "source": [
        "text_translated = translator(text,\n",
        "                             src_lang=\"eng_Latn\",\n",
        "                             tgt_lang=\"urd_Arab\")\n",
        "\n",
        "print(text_translated)"
      ],
      "metadata": {
        "colab": {
          "base_uri": "https://localhost:8080/"
        },
        "id": "wxqbEnsaLcww",
        "outputId": "4ecdfd0a-35c3-4230-ce45-46eb5c481cfd"
      },
      "execution_count": 35,
      "outputs": [
        {
          "output_type": "stream",
          "name": "stdout",
          "text": [
            "[{'translation_text': 'میرا کتا بہت پیارا ہے، آپ کا بلی کا بچہ بہت پیارا ہے اس کا پانڈا بہت دوستانہ ہے اس کا لاما بہت پرجوش ہے ہم سب کے پاس اچھے پالتو جانور ہیں'}]\n"
          ]
        }
      ]
    },
    {
      "cell_type": "code",
      "source": [
        "del translator"
      ],
      "metadata": {
        "id": "fEcQJplXMJMc"
      },
      "execution_count": 36,
      "outputs": []
    },
    {
      "cell_type": "code",
      "source": [
        "gc.collect()"
      ],
      "metadata": {
        "colab": {
          "base_uri": "https://localhost:8080/"
        },
        "id": "mKck4BoJMMMs",
        "outputId": "df55ab3f-c3e9-4697-f821-8eb421a6d016"
      },
      "execution_count": 37,
      "outputs": [
        {
          "output_type": "execute_result",
          "data": {
            "text/plain": [
              "0"
            ]
          },
          "metadata": {},
          "execution_count": 37
        }
      ]
    },
    {
      "cell_type": "code",
      "source": [
        "summarizer = pipeline(task=\"summarization\",\n",
        "                      model=\"facebook/bart-large-cnn\",\n",
        "                      torch_dtype=torch.bfloat16)"
      ],
      "metadata": {
        "id": "dWH1TVexMNxv"
      },
      "execution_count": 38,
      "outputs": []
    },
    {
      "cell_type": "code",
      "source": [
        "text = \"\"\"Paris is the capital and most populous city of France, with\n",
        "          an estimated population of 2,175,601 residents as of 2018,\n",
        "          in an area of more than 105 square kilometres (41 square\n",
        "          miles). The City of Paris is the centre and seat of\n",
        "          government of the region and province of Île-de-France, or\n",
        "          Paris Region, which has an estimated population of\n",
        "          12,174,880, or about 18 percent of the population of France\n",
        "          as of 2017.\"\"\""
      ],
      "metadata": {
        "id": "ZAIjyb0UMuQ6"
      },
      "execution_count": 39,
      "outputs": []
    },
    {
      "cell_type": "code",
      "source": [
        "summary = summarizer(text,\n",
        "                     min_length=10,\n",
        "                     max_length=100)"
      ],
      "metadata": {
        "id": "xyflnFpONRM3"
      },
      "execution_count": 40,
      "outputs": []
    },
    {
      "cell_type": "code",
      "source": [
        "summary"
      ],
      "metadata": {
        "colab": {
          "base_uri": "https://localhost:8080/"
        },
        "id": "nsHTtxYrNUbe",
        "outputId": "a7ee849c-e33f-47b4-9566-10cb4f666476"
      },
      "execution_count": 41,
      "outputs": [
        {
          "output_type": "execute_result",
          "data": {
            "text/plain": [
              "[{'summary_text': 'Paris is the capital and most populous city of France, with an estimated population of 2,175,601 residents as of 2018. The City of Paris is the centre and seat of the government of the region and province of Île-de-France.'}]"
            ]
          },
          "metadata": {},
          "execution_count": 41
        }
      ]
    },
    {
      "cell_type": "code",
      "source": [
        "del summarizer"
      ],
      "metadata": {
        "id": "jkAz-dwkNXZI"
      },
      "execution_count": 42,
      "outputs": []
    },
    {
      "cell_type": "code",
      "source": [
        "gc.collect()"
      ],
      "metadata": {
        "colab": {
          "base_uri": "https://localhost:8080/"
        },
        "id": "S8ZOYpfmNaRV",
        "outputId": "c66e7858-f867-41e2-a25c-198e6f9ec704"
      },
      "execution_count": 43,
      "outputs": [
        {
          "output_type": "execute_result",
          "data": {
            "text/plain": [
              "0"
            ]
          },
          "metadata": {},
          "execution_count": 43
        }
      ]
    },
    {
      "cell_type": "code",
      "source": [
        "#!pip install sentence-transformers"
      ],
      "metadata": {
        "id": "kXWOGifsRiPZ"
      },
      "execution_count": 44,
      "outputs": []
    },
    {
      "cell_type": "code",
      "source": [
        "from sentence_transformers import SentenceTransformer"
      ],
      "metadata": {
        "id": "7nu4njy6NcWl"
      },
      "execution_count": 45,
      "outputs": []
    },
    {
      "cell_type": "code",
      "source": [
        "model = SentenceTransformer('all-MiniLM-L6-v2')"
      ],
      "metadata": {
        "id": "U8ybfvIpRfNU"
      },
      "execution_count": 46,
      "outputs": []
    },
    {
      "cell_type": "code",
      "source": [
        "sentences1 = ['The cat sits outside',\n",
        "              'A man is playing guitar',\n",
        "              'The movies are awesome']"
      ],
      "metadata": {
        "id": "3EJPop5FR9ex"
      },
      "execution_count": 47,
      "outputs": []
    },
    {
      "cell_type": "code",
      "source": [
        "embeddings1 = model.encode(sentences1, convert_to_tensor=True)\n",
        "print(embeddings1)"
      ],
      "metadata": {
        "colab": {
          "base_uri": "https://localhost:8080/"
        },
        "id": "EeosghHeSBPF",
        "outputId": "6fb8ac52-d4b4-45c5-f159-ea97fa788116"
      },
      "execution_count": 48,
      "outputs": [
        {
          "output_type": "stream",
          "name": "stdout",
          "text": [
            "tensor([[ 0.1392,  0.0030,  0.0470,  ...,  0.0641, -0.0163,  0.0636],\n",
            "        [ 0.0227, -0.0014, -0.0056,  ..., -0.0225,  0.0846, -0.0283],\n",
            "        [-0.1043, -0.0628,  0.0093,  ...,  0.0020,  0.0653, -0.0150]])\n"
          ]
        }
      ]
    },
    {
      "cell_type": "code",
      "source": [
        "sentences2 = ['The dog plays in the garden',\n",
        "              'A woman watches TV',\n",
        "              'The new movie is so great']"
      ],
      "metadata": {
        "id": "WhtaUV8hSIZG"
      },
      "execution_count": 49,
      "outputs": []
    },
    {
      "cell_type": "code",
      "source": [
        "embeddings2 = model.encode(sentences2, convert_to_tensor=True)\n",
        "print(embeddings2)"
      ],
      "metadata": {
        "colab": {
          "base_uri": "https://localhost:8080/"
        },
        "id": "r9wx1n5uSLfG",
        "outputId": "29695e0b-b0e8-4cac-a10a-35f80a80260e"
      },
      "execution_count": 50,
      "outputs": [
        {
          "output_type": "stream",
          "name": "stdout",
          "text": [
            "tensor([[ 0.0163, -0.0700,  0.0384,  ...,  0.0447,  0.0254, -0.0023],\n",
            "        [ 0.0054, -0.0920,  0.0140,  ...,  0.0167, -0.0086, -0.0424],\n",
            "        [-0.0842, -0.0592, -0.0010,  ..., -0.0157,  0.0764,  0.0389]])\n"
          ]
        }
      ]
    },
    {
      "cell_type": "code",
      "source": [
        "from sentence_transformers import util"
      ],
      "metadata": {
        "id": "cXFGF0NTSQOo"
      },
      "execution_count": 51,
      "outputs": []
    },
    {
      "cell_type": "code",
      "source": [
        "cosine_scores = util.cos_sim(embeddings1, embeddings2)\n",
        "print(cosine_scores)"
      ],
      "metadata": {
        "colab": {
          "base_uri": "https://localhost:8080/"
        },
        "id": "lTrTVUyeSVTG",
        "outputId": "ffc8cf38-84c6-45df-ad24-0cb57c5ce0aa"
      },
      "execution_count": 52,
      "outputs": [
        {
          "output_type": "stream",
          "name": "stdout",
          "text": [
            "tensor([[ 0.2838,  0.1310, -0.0029],\n",
            "        [ 0.2277, -0.0327, -0.0136],\n",
            "        [-0.0124, -0.0465,  0.6571]])\n"
          ]
        }
      ]
    },
    {
      "cell_type": "code",
      "source": [
        "for i in range(len(sentences1)):\n",
        "  for j in range(len(sentences2)):\n",
        "    print('{} \\t\\t {} \\t\\t Score: {:.4f}'.format(sentences1[i], sentences2[j], cosine_scores[i][j]))"
      ],
      "metadata": {
        "colab": {
          "base_uri": "https://localhost:8080/"
        },
        "id": "JG0wVBxvSsaA",
        "outputId": "459a33f5-8580-46c1-ac3b-f4d6a4c73adf"
      },
      "execution_count": 53,
      "outputs": [
        {
          "output_type": "stream",
          "name": "stdout",
          "text": [
            "The cat sits outside \t\t The dog plays in the garden \t\t Score: 0.2838\n",
            "The cat sits outside \t\t A woman watches TV \t\t Score: 0.1310\n",
            "The cat sits outside \t\t The new movie is so great \t\t Score: -0.0029\n",
            "A man is playing guitar \t\t The dog plays in the garden \t\t Score: 0.2277\n",
            "A man is playing guitar \t\t A woman watches TV \t\t Score: -0.0327\n",
            "A man is playing guitar \t\t The new movie is so great \t\t Score: -0.0136\n",
            "The movies are awesome \t\t The dog plays in the garden \t\t Score: -0.0124\n",
            "The movies are awesome \t\t A woman watches TV \t\t Score: -0.0465\n",
            "The movies are awesome \t\t The new movie is so great \t\t Score: 0.6571\n"
          ]
        }
      ]
    },
    {
      "cell_type": "code",
      "source": [
        "del model"
      ],
      "metadata": {
        "id": "dknXpTjeTgvs"
      },
      "execution_count": 54,
      "outputs": []
    },
    {
      "cell_type": "code",
      "source": [
        "gc.collect()"
      ],
      "metadata": {
        "colab": {
          "base_uri": "https://localhost:8080/"
        },
        "id": "8WGlt_t_T2Nx",
        "outputId": "247b1a81-68d8-46a6-a348-f4f6152efe79"
      },
      "execution_count": 55,
      "outputs": [
        {
          "output_type": "execute_result",
          "data": {
            "text/plain": [
              "7"
            ]
          },
          "metadata": {},
          "execution_count": 55
        }
      ]
    },
    {
      "cell_type": "code",
      "source": [
        "del util"
      ],
      "metadata": {
        "id": "fSHkuF1ET4lJ"
      },
      "execution_count": 56,
      "outputs": []
    },
    {
      "cell_type": "code",
      "source": [
        "gc.collect()"
      ],
      "metadata": {
        "colab": {
          "base_uri": "https://localhost:8080/"
        },
        "id": "hYmM5geCT6pW",
        "outputId": "03ad4773-9155-4b70-8cf3-505b362c4fee"
      },
      "execution_count": 57,
      "outputs": [
        {
          "output_type": "execute_result",
          "data": {
            "text/plain": [
              "2239"
            ]
          },
          "metadata": {},
          "execution_count": 57
        }
      ]
    },
    {
      "cell_type": "code",
      "source": [],
      "metadata": {
        "id": "qNWYlIf1T8X_"
      },
      "execution_count": 57,
      "outputs": []
    }
  ]
}